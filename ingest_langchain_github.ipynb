{
 "cells": [
  {
   "cell_type": "code",
   "execution_count": null,
   "id": "6d024368",
   "metadata": {},
   "outputs": [],
   "source": [
    "import os\n",
    "os.environ[\"OPENAI_API_KEY\"] = \"\""
   ]
  },
  {
   "cell_type": "code",
   "execution_count": null,
   "id": "7ca6e621",
   "metadata": {},
   "outputs": [],
   "source": [
    "# Define your input folder langchain GitHub files and the persist directory for ChromaDB\n",
    "input_folder = \"./langchain-master\"\n",
    "persist_directory = 'db_langchain_github'"
   ]
  },
  {
   "cell_type": "code",
   "execution_count": null,
   "id": "072dfd7d",
   "metadata": {},
   "outputs": [],
   "source": [
    "# Load every file from the folder\n",
    "import os\n",
    "from langchain.document_loaders import TextLoader\n",
    "\n",
    "root_dir = './langchain-master'\n",
    "docs = []\n",
    "for dirpath, dirnames, filenames in os.walk(root_dir):\n",
    "    for file in filenames:\n",
    "        try: \n",
    "            loader = TextLoader(os.path.join(dirpath, file), encoding='utf-8')\n",
    "            docs.extend(loader.load_and_split())\n",
    "        except Exception as e: \n",
    "            pass"
   ]
  },
  {
   "cell_type": "code",
   "execution_count": null,
   "id": "f2b613fd",
   "metadata": {},
   "outputs": [],
   "source": [
    "# Split loaded files to chunks\n",
    "from langchain.text_splitter import CharacterTextSplitter\n",
    "\n",
    "text_splitter = CharacterTextSplitter(chunk_size=1250, chunk_overlap=10)\n",
    "texts = text_splitter.split_documents(docs)"
   ]
  },
  {
   "cell_type": "code",
   "execution_count": null,
   "id": "b0356d1c",
   "metadata": {},
   "outputs": [],
   "source": [
    "# Initialize Chrome data base \n",
    "def init_chromadb(documents, persist_directory):\n",
    "    client_settings = chromadb.config.Settings(\n",
    "        chroma_db_impl=\"duckdb+parquet\",\n",
    "        persist_directory=persist_directory,\n",
    "        anonymized_telemetry=False\n",
    "    )\n",
    "    embeddings = OpenAIEmbeddings(disallowed_special=())\n",
    "\n",
    "    vectorstore = Chroma(\n",
    "        collection_name=\"langchain_github\",\n",
    "        embedding_function=embeddings,\n",
    "        client_settings=client_settings,\n",
    "        persist_directory=persist_directory,\n",
    "    )\n",
    "\n",
    "    vectorstore.add_documents(documents=documents, embedding=embeddings)\n",
    "    vectorstore.persist()"
   ]
  },
  {
   "cell_type": "code",
   "execution_count": null,
   "id": "fcc15438",
   "metadata": {},
   "outputs": [],
   "source": [
    "# Initialize embeddings and create Chroma database\n",
    "from langchain.embeddings.openai import OpenAIEmbeddings\n",
    "from langchain.vectorstores import Chroma\n",
    "import chromadb\n",
    "\n",
    "init_chromadb(texts, persist_directory)"
   ]
  }
 ],
 "metadata": {
  "kernelspec": {
   "display_name": "Python 3 (ipykernel)",
   "language": "python",
   "name": "python3"
  },
  "language_info": {
   "codemirror_mode": {
    "name": "ipython",
    "version": 3
   },
   "file_extension": ".py",
   "mimetype": "text/x-python",
   "name": "python",
   "nbconvert_exporter": "python",
   "pygments_lexer": "ipython3",
   "version": "3.10.6"
  }
 },
 "nbformat": 4,
 "nbformat_minor": 5
}
