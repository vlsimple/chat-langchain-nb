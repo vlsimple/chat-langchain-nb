{
 "cells": [
  {
   "cell_type": "code",
   "execution_count": null,
   "id": "7f4cea1d",
   "metadata": {},
   "outputs": [],
   "source": [
    "import os\n",
    "os.environ[\"OPENAI_API_KEY\"] = \"\""
   ]
  },
  {
   "cell_type": "code",
   "execution_count": null,
   "id": "e3ec3e84",
   "metadata": {},
   "outputs": [],
   "source": [
    "from langchain.embeddings.openai import OpenAIEmbeddings\n",
    "from langchain.vectorstores import Chroma"
   ]
  },
  {
   "cell_type": "code",
   "execution_count": null,
   "id": "35c14e04",
   "metadata": {},
   "outputs": [],
   "source": [
    "embeddings = OpenAIEmbeddings()\n",
    "persist_directory = 'db_langchain_github'\n",
    "db = Chroma(collection_name=\"langchain_github\", persist_directory=persist_directory, embedding_function=embeddings)\n",
    "db_retriever = db.as_retriever()"
   ]
  },
  {
   "cell_type": "code",
   "execution_count": null,
   "id": "5bca4a46",
   "metadata": {},
   "outputs": [],
   "source": [
    "from langchain.chat_models import ChatOpenAI\n",
    "from langchain.chains import ConversationChain, LLMChain\n",
    "from langchain.memory import ConversationBufferWindowMemory\n",
    "from langchain.prompts.chat import (\n",
    "    ChatPromptTemplate,\n",
    "    SystemMessagePromptTemplate,\n",
    "    AIMessagePromptTemplate,\n",
    "    HumanMessagePromptTemplate,\n",
    ")"
   ]
  },
  {
   "cell_type": "code",
   "execution_count": null,
   "id": "d417b346",
   "metadata": {},
   "outputs": [],
   "source": [
    "def generate_response(human_input):\n",
    "    system_prompt_template = \"\"\"You are expert programer. Use the provided data {context} to write a code and answer questions about provided code.\"\"\"\n",
    "\n",
    "    human_prompt_template = \"{text}.\"\n",
    "    system_message_prompt = SystemMessagePromptTemplate.from_template(system_prompt_template)\n",
    "    human_message_prompt = HumanMessagePromptTemplate.from_template(human_prompt_template)\n",
    "    # delete the gpt-4 model_name to use the default gpt-3.5 turbo for faster results\n",
    "    gpt_4 = ChatOpenAI(temperature=.02)\n",
    "    # Use the retriever's 'get_relevant_documents' method if needed to filter down longer docs\n",
    "    relevant_nodes = db_retriever.get_relevant_documents(human_input)\n",
    "    conversation = [system_message_prompt, human_message_prompt]\n",
    "    chat_prompt = ChatPromptTemplate.from_messages(conversation)\n",
    "    response = gpt_4(chat_prompt.format_prompt( \n",
    "        context=relevant_nodes, \n",
    "        text=human_input).to_messages())\n",
    "    return response"
   ]
  },
  {
   "cell_type": "code",
   "execution_count": null,
   "id": "1ff6a650",
   "metadata": {},
   "outputs": [],
   "source": [
    "response = generate_response(\"write a python script to load text file to chroma data base\")"
   ]
  },
  {
   "cell_type": "code",
   "execution_count": null,
   "id": "f8c869e0",
   "metadata": {},
   "outputs": [],
   "source": [
    "print(response.content)"
   ]
  },
  {
   "cell_type": "code",
   "execution_count": null,
   "id": "844425d5",
   "metadata": {},
   "outputs": [],
   "source": [
    "response = generate_response(\"write a python script to load text file to existing chroma data base\")"
   ]
  },
  {
   "cell_type": "code",
   "execution_count": null,
   "id": "eafc6dbe",
   "metadata": {},
   "outputs": [],
   "source": [
    "print(response.content)"
   ]
  },
  {
   "cell_type": "code",
   "execution_count": null,
   "id": "03b3434e",
   "metadata": {},
   "outputs": [],
   "source": [
    "response = generate_response(\"write a python script to load web site from url to existing chroma data base\")\n",
    "print(response.content)"
   ]
  },
  {
   "cell_type": "code",
   "execution_count": null,
   "id": "27a92702",
   "metadata": {},
   "outputs": [],
   "source": [
    "response = generate_response(\"list available loaders\")\n",
    "print(response.content)"
   ]
  },
  {
   "cell_type": "code",
   "execution_count": null,
   "id": "f00060a1",
   "metadata": {},
   "outputs": [],
   "source": [
    "response = generate_response(\"write a python script to load the whole web site from url to the local drive and then to existing chroma data base\")\n",
    "print(response.content)"
   ]
  },
  {
   "cell_type": "code",
   "execution_count": null,
   "id": "aade47c9",
   "metadata": {},
   "outputs": [],
   "source": [
    "response = generate_response(\"use langchain to load html files from a folder to chromadb\")\n",
    "print(response.content)"
   ]
  },
  {
   "cell_type": "code",
   "execution_count": null,
   "id": "b43076f4",
   "metadata": {},
   "outputs": [],
   "source": [
    "response = generate_response(\"explain vectorstore = Chroma(collection_name=langchain_github\")\n",
    "print(response.content)"
   ]
  },
  {
   "cell_type": "code",
   "execution_count": null,
   "id": "247b096c",
   "metadata": {},
   "outputs": [],
   "source": [
    "response = generate_response(\"db = Chroma(collection_name=\\\"langchain_github\\\", persist_directory=persist_directory, embedding_function=embeddings)db_retriever = db.as_retriever() How to retrieve information from several collection names\")\n",
    "print(response.content)"
   ]
  },
  {
   "cell_type": "code",
   "execution_count": null,
   "id": "e4e33a89",
   "metadata": {},
   "outputs": [],
   "source": [
    "response = generate_response(\"relevant_nodes = db_retriever.get_relevant_documents(human_input). How to use several relevant nodes?\")\n",
    "print(response.content)"
   ]
  },
  {
   "cell_type": "code",
   "execution_count": null,
   "id": "8c2aeab7",
   "metadata": {},
   "outputs": [],
   "source": [
    "response = generate_response(\"relevant_nodes = db_retriever.get_relevant_documents(human_input). How to use several db_retriever?\")\n",
    "print(response.content)"
   ]
  },
  {
   "cell_type": "code",
   "execution_count": null,
   "id": "a0740c8c",
   "metadata": {},
   "outputs": [],
   "source": [
    "response = generate_response(\"response = gpt_4(chat_prompt.format_prompt( context=relevant_nodes,text=human_input).to_messages()). what are options for context?\")\n",
    "print(response.content)"
   ]
  },
  {
   "cell_type": "code",
   "execution_count": null,
   "id": "85eaf961",
   "metadata": {},
   "outputs": [],
   "source": []
  }
 ],
 "metadata": {
  "kernelspec": {
   "display_name": "Python 3 (ipykernel)",
   "language": "python",
   "name": "python3"
  },
  "language_info": {
   "codemirror_mode": {
    "name": "ipython",
    "version": 3
   },
   "file_extension": ".py",
   "mimetype": "text/x-python",
   "name": "python",
   "nbconvert_exporter": "python",
   "pygments_lexer": "ipython3",
   "version": "3.10.6"
  }
 },
 "nbformat": 4,
 "nbformat_minor": 5
}
